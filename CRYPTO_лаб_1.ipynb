{
  "nbformat": 4,
  "nbformat_minor": 0,
  "metadata": {
    "colab": {
      "name": "CRYPTO_лаб_1.ipynb",
      "provenance": [],
      "collapsed_sections": []
    },
    "kernelspec": {
      "name": "python3",
      "display_name": "Python 3"
    }
  },
  "cells": [
    {
      "cell_type": "markdown",
      "metadata": {
        "id": "K4Sg8x12CjT0"
      },
      "source": [
        "# **hashlib** — хеширование строк в Python на примерах — MD5, SHA1"
      ]
    },
    {
      "cell_type": "markdown",
      "metadata": {
        "id": "qd9AXWBuCyEL"
      },
      "source": [
        "*   В Python хеш-функция принимает вводную последовательность с переменной длиной в байтах и конвертирует ее в последовательность с фиксированной длиной. Данная функция односторонняя.\n",
        "*   Это значит, что если f является функцией хеширования, f(x) вычисляется довольно быстро и без лишних сложностей, однако на повторное получение х потребуется очень много времени. Значение, что возвращается хеш-функцией, обычно называют хешем, дайджестом сообщения, значением хеша или контрольной суммой. \n",
        "    \n",
        "    **Популярные хеш-функции Python**\n",
        "\n",
        "\n",
        "1.   **MD5:** Алгоритм производит хеш со значением в 128 битов. Широко используется дляпроверки целостности данных. Не подходит для использования в иных областях по причине уязвимости в безопасности MD5.\n",
        "\n",
        "2.   **SHA:** Группа алгоритмов, что были разработаны NSA Соединенных Штатов. Они являются частью Федерального стандарта обработки информации США. Эти алгоритмы широко используются в нескольких криптографических приложениях. Длина сообщения варьируется от 160 до 512 бит.\n"
      ]
    },
    {
      "cell_type": "code",
      "metadata": {
        "id": "uSd4JAzjChb_"
      },
      "source": [
        "import hashlib"
      ],
      "execution_count": null,
      "outputs": []
    },
    {
      "cell_type": "markdown",
      "metadata": {
        "id": "fLsBz_mwERy8"
      },
      "source": [
        "Теперь для списка доступных алгоритмов используются algorithms_available и algorithms_guaranteed."
      ]
    },
    {
      "cell_type": "code",
      "metadata": {
        "id": "7qDs8KkJEXm-",
        "colab": {
          "base_uri": "https://localhost:8080/",
          "height": 72
        },
        "outputId": "8b230f08-67ad-495c-a438-d872536f69e2"
      },
      "source": [
        "print(hashlib.algorithms_available)\n",
        "print(hashlib.algorithms_guaranteed)"
      ],
      "execution_count": null,
      "outputs": [
        {
          "output_type": "stream",
          "text": [
            "{'sha3_256', 'sha512', 'shake128', 'sha512-256', 'sha1', 'md5-sha1', 'sha3-256', 'blake2b512', 'shake_128', 'sha512-224', 'md5', 'blake2s', 'whirlpool', 'sha3-384', 'sha224', 'sha384', 'blake2s256', 'sha3_224', 'sm3', 'sha3_384', 'blake2b', 'shake_256', 'ripemd160', 'sha3_512', 'md4', 'sha3-512', 'sha3-224', 'shake256', 'sha256'}\n",
            "{'sha384', 'blake2b', 'sha3_256', 'sha3_384', 'sha3_512', 'shake_256', 'sha512', 'sha224', 'shake_128', 'md5', 'blake2s', 'sha1', 'sha3_224', 'sha256'}\n"
          ],
          "name": "stdout"
        }
      ]
    },
    {
      "cell_type": "markdown",
      "metadata": {
        "id": "4_KBFUMVEelz"
      },
      "source": [
        "Метод **algorithms_available** создает список всех алгоритмов, доступных в системе, включая те, что доступны через OpenSSl.\n",
        "\n",
        " В данном случае в списке можно заметить дубликаты названий. algorithms_guaranteed перечисляет только алгоритмы модуля. Всегда присутствуют **md5, sha1, sha224, sha256, sha384, sha512**."
      ]
    },
    {
      "cell_type": "markdown",
      "metadata": {
        "id": "AnoY66OEE5bj"
      },
      "source": [
        "# Примеры кода с хеш-функциями в Python"
      ]
    },
    {
      "cell_type": "markdown",
      "metadata": {
        "id": "BlZzyjfcE8JR"
      },
      "source": [
        "Код ниже принимает строку **\"Hello World\"** и выводит дайджест HEX данной строки. hexdigest возвращает строку HEX, что представляет хеш, и в случае, если вам нужна последовательность байтов, нужно использовать дайджест."
      ]
    },
    {
      "cell_type": "code",
      "metadata": {
        "id": "SKGBxYICEwuF",
        "colab": {
          "base_uri": "https://localhost:8080/",
          "height": 35
        },
        "outputId": "c698619a-b8ee-4eca-d982-f81d3dafe34a"
      },
      "source": [
        "import hashlib\n",
        " \n",
        "hash_object = hashlib.md5(b'111')\n",
        "print(hash_object.hexdigest())"
      ],
      "execution_count": null,
      "outputs": [
        {
          "output_type": "stream",
          "text": [
            "698d51a19d8a121ce581499d7b701668\n"
          ],
          "name": "stdout"
        }
      ]
    },
    {
      "cell_type": "markdown",
      "metadata": {
        "id": "2XZOJN6-FjnP"
      },
      "source": [
        "если вам нужно принять какой-то ввод с консоли и хешировать его, не забудьте закодировать строку в последовательности байтов:"
      ]
    },
    {
      "cell_type": "markdown",
      "metadata": {
        "id": "GTOPrdJPJKxn"
      },
      "source": [
        "1. Хеширования на **MD5** "
      ]
    },
    {
      "cell_type": "code",
      "metadata": {
        "id": "u_fw28UtFk3i",
        "colab": {
          "base_uri": "https://localhost:8080/"
        },
        "outputId": "2d038770-e299-40c8-9643-850f0cc234a2"
      },
      "source": [
        "import hashlib\n",
        " \n",
        "mystring = input('Enter String to hash: ')\n",
        " \n",
        "# Предположительно по умолчанию UTF-8\n",
        "hash_object = hashlib.md5(mystring.encode())\n",
        "print(hash_object.hexdigest())"
      ],
      "execution_count": null,
      "outputs": [
        {
          "output_type": "stream",
          "name": "stdout",
          "text": [
            "Enter String to hash: 12345\n",
            "827ccb0eea8a706c4c34a16891f84e7b\n"
          ]
        }
      ]
    },
    {
      "cell_type": "code",
      "metadata": {
        "colab": {
          "base_uri": "https://localhost:8080/"
        },
        "id": "vU0Tqw_lcpBL",
        "outputId": "b840591f-0f09-4e0d-bd63-b5d5b050c175"
      },
      "source": [
        "mystring = input('Enter String to hash: ')\n",
        " \n",
        "# Предположительно по умолчанию UTF-8\n",
        "hash_object = hashlib.md5(mystring.encode())\n",
        "print(hash_object.hexdigest())"
      ],
      "execution_count": null,
      "outputs": [
        {
          "output_type": "stream",
          "name": "stdout",
          "text": [
            "Enter String to hash: абвг\n",
            "39ef973b9b0aee9ccfdc2c7c4116b83a\n"
          ]
        }
      ]
    },
    {
      "cell_type": "code",
      "metadata": {
        "colab": {
          "base_uri": "https://localhost:8080/"
        },
        "id": "wBNuu1iceJZD",
        "outputId": "10c3db24-4356-4b78-e607-08b33d288a80"
      },
      "source": [
        "mystring = input('Enter String to hash: ')\n",
        " \n",
        "# Предположительно по умолчанию UTF-8\n",
        "hash_object = hashlib.md5(mystring.encode())\n",
        "print(hash_object.hexdigest())\n"
      ],
      "execution_count": null,
      "outputs": [
        {
          "output_type": "stream",
          "name": "stdout",
          "text": [
            "Enter String to hash: хаха12345\n",
            "33cac05257846ff2bdb0d5b620c3d212\n"
          ]
        }
      ]
    },
    {
      "cell_type": "markdown",
      "metadata": {
        "id": "xiLcc8x8Fnse"
      },
      "source": [
        "2. Хеширования на **SHA1**  "
      ]
    },
    {
      "cell_type": "code",
      "metadata": {
        "id": "QbjadNCFF-h-",
        "colab": {
          "base_uri": "https://localhost:8080/",
          "height": 35
        },
        "outputId": "97e7a384-901d-4d7d-ed02-489a1349919f"
      },
      "source": [
        "import hashlib\n",
        " \n",
        "hash_object = hashlib.sha1(b'Hello World')\n",
        "hex_dig = hash_object.hexdigest()\n",
        " \n",
        "print(hex_dig)"
      ],
      "execution_count": null,
      "outputs": [
        {
          "output_type": "stream",
          "text": [
            "0a4d55a8d778e5022fab701977c5d840bbc486d0\n"
          ],
          "name": "stdout"
        }
      ]
    },
    {
      "cell_type": "markdown",
      "metadata": {
        "id": "DP7-NgP8I6fr"
      },
      "source": [
        "3. Хеширование на **SHA224**"
      ]
    },
    {
      "cell_type": "code",
      "metadata": {
        "id": "5fByPQkAJUww",
        "colab": {
          "base_uri": "https://localhost:8080/"
        },
        "outputId": "297a8c21-8370-4378-b0f1-aa743d8a6104"
      },
      "source": [
        "import hashlib\n",
        " \n",
        "hash_object = hashlib.sha224(b'Hello World mironenkova')\n",
        "hex_dig = hash_object.hexdigest()\n",
        " \n",
        "print(hex_dig)"
      ],
      "execution_count": null,
      "outputs": [
        {
          "output_type": "stream",
          "name": "stdout",
          "text": [
            "46a214490b7e66682a529942e7916d3670b5a706198e7aeb1b6b3929\n"
          ]
        }
      ]
    },
    {
      "cell_type": "markdown",
      "metadata": {
        "id": "d-NGu_slJYXx"
      },
      "source": [
        "4. Хеширование на **SHA256**"
      ]
    },
    {
      "cell_type": "code",
      "metadata": {
        "id": "k4QR5WyiJXRT",
        "colab": {
          "base_uri": "https://localhost:8080/",
          "height": 35
        },
        "outputId": "b9e2c758-7d04-47dc-c062-a2c9413a8ef1"
      },
      "source": [
        "import hashlib\n",
        " \n",
        "hash_object = hashlib.sha256(b'Hello World')\n",
        "hex_dig = hash_object.hexdigest()\n",
        " \n",
        "print(hex_dig)"
      ],
      "execution_count": null,
      "outputs": [
        {
          "output_type": "stream",
          "text": [
            "a591a6d40bf420404a011733cfb7b190d62c65bf0bcda32b57b277d9ad9f146e\n"
          ],
          "name": "stdout"
        }
      ]
    },
    {
      "cell_type": "markdown",
      "metadata": {
        "id": "AJoDm5wKJlad"
      },
      "source": [
        "5. Хеширование на **SHA384**"
      ]
    },
    {
      "cell_type": "code",
      "metadata": {
        "id": "ETZbgFdyJuo9",
        "colab": {
          "base_uri": "https://localhost:8080/",
          "height": 35
        },
        "outputId": "06e80593-7890-44ba-c387-303f7b0fa97d"
      },
      "source": [
        "import hashlib\n",
        " \n",
        "hash_object = hashlib.sha384(b'Hello World')\n",
        "hex_dig = hash_object.hexdigest()\n",
        " \n",
        "print(hex_dig)"
      ],
      "execution_count": null,
      "outputs": [
        {
          "output_type": "stream",
          "text": [
            "99514329186b2f6ae4a1329e7ee6c610a729636335174ac6b740f9028396fcc803d0e93863a7c3d90f86beee782f4f3f\n"
          ],
          "name": "stdout"
        }
      ]
    },
    {
      "cell_type": "markdown",
      "metadata": {
        "id": "21OIsmeDJzl7"
      },
      "source": [
        "6. Хеширование на **SHA384**"
      ]
    },
    {
      "cell_type": "code",
      "metadata": {
        "id": "V1AjTGNyJ2qQ",
        "colab": {
          "base_uri": "https://localhost:8080/",
          "height": 35
        },
        "outputId": "858e80cb-c065-49cc-cdce-144f213078c1"
      },
      "source": [
        "import hashlib\n",
        " \n",
        "hash_object = hashlib.sha512(b'Hello World')\n",
        "hex_dig = hash_object.hexdigest()\n",
        " \n",
        "print(hex_dig)"
      ],
      "execution_count": null,
      "outputs": [
        {
          "output_type": "stream",
          "text": [
            "2c74fd17edafd80e8447b0d46741ee243b7eb74dd2149a0ab1b9246fb30382f27e853d8585719e0e67cbda0daa8f51671064615d645ae27acb15bfb1447f459b\n"
          ],
          "name": "stdout"
        }
      ]
    },
    {
      "cell_type": "markdown",
      "metadata": {
        "id": "TrIxobQqJ5sh"
      },
      "source": [
        "# Использование алгоритмов OpenSSL"
      ]
    },
    {
      "cell_type": "markdown",
      "metadata": {
        "id": "1chQxkjOJ9T8"
      },
      "source": [
        "Алгоритмы, предоставленные OpenSSL определяем через функцию  **algorithms_available**"
      ]
    },
    {
      "cell_type": "code",
      "metadata": {
        "id": "ypoqL8MKP-PX"
      },
      "source": [
        "print(hashlib.algorithms_available)"
      ],
      "execution_count": null,
      "outputs": []
    },
    {
      "cell_type": "code",
      "metadata": {
        "id": "zjJpT73gQKaz"
      },
      "source": [
        "import hashlib\n",
        " \n",
        "hash_object = hashlib.new('ripemd160')\n",
        "hash_object.update(b'Hello World')\n",
        " \n",
        "print(hash_object.hexdigest())"
      ],
      "execution_count": null,
      "outputs": []
    },
    {
      "cell_type": "markdown",
      "metadata": {
        "id": "dZK74AybR3Bk"
      },
      "source": [
        "# Пример хеширования паролей Python"
      ]
    },
    {
      "cell_type": "markdown",
      "metadata": {
        "id": "21CyU3u_R5cR"
      },
      "source": [
        "В следующем примере пароли будут хешироваться для последующего сохранения в базе данных. Здесь мы будем использовать **salt**. **salt** является случайной последовательностью, добавленной к строке пароля перед использованием хеш-функции. **salt** используется для предотвращения перебора по словарю (**dictionary attack**) и атак радужной таблицы (**rainbow tables attacks**)."
      ]
    },
    {
      "cell_type": "code",
      "metadata": {
        "id": "ASZPNYhvR4nm"
      },
      "source": [
        "import uuid\n",
        "import hashlib\n",
        " \n",
        "def hash_password(password):\n",
        "    # uuid используется для генерации случайного числа\n",
        "    salt = uuid.uuid4().hex\n",
        "    return hashlib.sha256(salt.encode() + password.encode()).hexdigest() + ':' + salt\n",
        "    \n",
        "def check_password(hashed_password, user_password):\n",
        "    password, salt = hashed_password.split(':')\n",
        "    return password == hashlib.sha256(salt.encode() + user_password.encode()).hexdigest()\n",
        " \n",
        "new_pass = input('Введите пароль: ')\n",
        "hashed_password = hash_password(new_pass)\n",
        "print('Строка для хранения в базе данных: ' + hashed_password)\n",
        "old_pass = input('Введите пароль еще раз для проверки: ')\n",
        " \n",
        "if check_password(hashed_password, old_pass):\n",
        "    print('Вы ввели правильный пароль')\n",
        "else:\n",
        "    print('Извините, но пароли не совпадают')"
      ],
      "execution_count": null,
      "outputs": []
    },
    {
      "cell_type": "markdown",
      "metadata": {
        "id": "g76qgB4DYwMT"
      },
      "source": [
        "# Самостоятельная работа \n",
        "Использование алгоритма MD5\n"
      ]
    },
    {
      "cell_type": "code",
      "metadata": {
        "colab": {
          "base_uri": "https://localhost:8080/"
        },
        "id": "2sRpUkq3grBe",
        "outputId": "f862409a-158f-4488-83bf-fb4d0dd49bf1"
      },
      "source": [
        "import hashlib\n",
        " \n",
        "mystring = input('Enter String to hash: ')\n",
        " \n",
        "# Предположительно по умолчанию UTF-8\n",
        "hash_object = hashlib.md5(mystring.encode())\n",
        "print(hash_object.hexdigest())"
      ],
      "execution_count": null,
      "outputs": [
        {
          "output_type": "stream",
          "name": "stdout",
          "text": [
            "Enter String to hash: 12345\n",
            "827ccb0eea8a706c4c34a16891f84e7b\n"
          ]
        }
      ]
    },
    {
      "cell_type": "code",
      "metadata": {
        "colab": {
          "base_uri": "https://localhost:8080/"
        },
        "id": "ze0zyiX5g3pr",
        "outputId": "684aa30e-f8ff-47dc-f843-2685efa9653b"
      },
      "source": [
        "import hashlib\n",
        " \n",
        "mystring = input('Enter String to hash: ')\n",
        " \n",
        "# Предположительно по умолчанию UTF-8\n",
        "hash_object = hashlib.md5(mystring.encode())\n",
        "print(hash_object.hexdigest())\n"
      ],
      "execution_count": null,
      "outputs": [
        {
          "output_type": "stream",
          "name": "stdout",
          "text": [
            "Enter String to hash: абвг\n",
            "39ef973b9b0aee9ccfdc2c7c4116b83a\n"
          ]
        }
      ]
    },
    {
      "cell_type": "code",
      "metadata": {
        "colab": {
          "base_uri": "https://localhost:8080/"
        },
        "id": "451zPiFzhABY",
        "outputId": "b877a2b3-c8c4-41ae-ab12-9905dbad4928"
      },
      "source": [
        "import hashlib\n",
        " \n",
        "mystring = input('Enter String to hash: ')\n",
        " \n",
        "# Предположительно по умолчанию UTF-8\n",
        "hash_object = hashlib.md5(mystring.encode())\n",
        "print(hash_object.hexdigest())"
      ],
      "execution_count": null,
      "outputs": [
        {
          "output_type": "stream",
          "name": "stdout",
          "text": [
            "Enter String to hash: абвг1234\n",
            "61f82ee53c8aa774a6cd8af01f22c2d4\n"
          ]
        }
      ]
    },
    {
      "cell_type": "code",
      "metadata": {
        "colab": {
          "base_uri": "https://localhost:8080/"
        },
        "id": "C6bp3qNchVEh",
        "outputId": "a34b18fb-7c59-44f0-f11d-755ee677ae6b"
      },
      "source": [
        "import hashlib\n",
        " \n",
        "hash_object = hashlib.sha224(b'Hello World mironenkova')\n",
        "hex_dig = hash_object.hexdigest()\n",
        " \n",
        "print(hex_dig)"
      ],
      "execution_count": null,
      "outputs": [
        {
          "output_type": "stream",
          "name": "stdout",
          "text": [
            "46a214490b7e66682a529942e7916d3670b5a706198e7aeb1b6b3929\n"
          ]
        }
      ]
    },
    {
      "cell_type": "markdown",
      "metadata": {
        "id": "1QWOqskwY2n6"
      },
      "source": [
        "\n",
        "1. Создать с помощью Хеширования на MD5 пункта 1 :\n",
        "  - числовой пароль\n",
        "  - буквенный пароль\n",
        "  - буквенно-числовой пароль.\n",
        "2. Получить хэш паролей пункта 3 \n",
        "\n",
        "3. Реализовать следующие алгоритмы хэширования и получение хэш паролей, согласно варианту:\n",
        " MD2\n",
        "\n",
        "1.   MD4\n",
        "2.   MD5\n",
        "3.   MD6\n",
        "4.   N-Hash\n",
        "5.   RIPEMD-160\n",
        "6.   RIPEMD-256\n",
        "7.   RIPEMD-320\n",
        "8.   SHA-2\n",
        "9.   Keccak (SHA-3)\n",
        "10.  SHABAL\n",
        "11.  SHAvite-3\n",
        "12.  SIMD\n",
        "13.  SWIFFT\n",
        "14.  Skein\n",
        "15.  Tiger\n",
        "16.  Whirlpool\n",
        "17.  Hamsi\n",
        "18.  JH\n",
        "19.  Kupyna\n",
        "20.  LM-хеш\n",
        "21.  Luffa\n",
        "22.  MD4\n",
        "\n",
        "\n",
        "\n",
        "\n",
        "\n",
        "\n",
        "\n"
      ]
    }
  ]
}